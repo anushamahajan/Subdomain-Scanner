{
  "nbformat": 4,
  "nbformat_minor": 0,
  "metadata": {
    "colab": {
      "provenance": []
    },
    "kernelspec": {
      "name": "python3",
      "display_name": "Python 3"
    },
    "language_info": {
      "name": "python"
    }
  },
  "cells": [
    {
      "cell_type": "code",
      "source": [
        "!wget https://github.com/theMiddleBlue/DNSenum/blob/master/wordlist/subdomains-top1mil-20000.txt"
      ],
      "metadata": {
        "id": "J-CrcPsNYBKw",
        "colab": {
          "base_uri": "https://localhost:8080/"
        },
        "outputId": "2bc3b03e-4d12-445a-d320-110f50c7e0b6"
      },
      "execution_count": null,
      "outputs": [
        {
          "output_type": "stream",
          "name": "stdout",
          "text": [
            "--2023-07-23 12:29:19--  https://github.com/theMiddleBlue/DNSenum/blob/master/wordlist/subdomains-top1mil-20000.txt\n",
            "Resolving github.com (github.com)... 140.82.114.3\n",
            "Connecting to github.com (github.com)|140.82.114.3|:443... connected.\n",
            "HTTP request sent, awaiting response... 200 OK\n",
            "Length: 253758 (248K) [text/plain]\n",
            "Saving to: ‘subdomains-top1mil-20000.txt’\n",
            "\n",
            "subdomains-top1mil- 100%[===================>] 247.81K  --.-KB/s    in 0.06s   \n",
            "\n",
            "2023-07-23 12:29:19 (3.82 MB/s) - ‘subdomains-top1mil-20000.txt’ saved [253758/253758]\n",
            "\n"
          ]
        }
      ]
    },
    {
      "cell_type": "code",
      "source": [
        "import requests\n",
        "import sys"
      ],
      "metadata": {
        "id": "f1Bre0xqCL6B"
      },
      "execution_count": null,
      "outputs": []
    },
    {
      "cell_type": "code",
      "source": [
        "url = \"https://raw.githubusercontent.com/theMiddleBlue/DNSenum/master/wordlist/subdomains-top1mil-20000.txt\"\n",
        "response = requests.get(url)\n",
        "\n",
        "if response.status_code == 200:\n",
        "    contents = response.text\n",
        "\n",
        "    words = contents.splitlines()\n",
        "    link = input(\"Enter the URL: \")\n",
        "    for s in words:\n",
        "      url_https=\"https://{}.{}\".format(s,link)\n",
        "      url_http=\"http://{}.{}\".format(s,link)\n",
        "      try:\n",
        "        a=requests.get(url_https)\n",
        "        b=requests.get(url_http)\n",
        "      except Exception as ex:\n",
        "        pass\n",
        "      else:\n",
        "        if b.status_code == 200:\n",
        "          print(url_http)\n",
        "        if a.status_code == 200:\n",
        "          print(url_https)\n"
      ],
      "metadata": {
        "id": "TiW1A1bzZsKy"
      },
      "execution_count": null,
      "outputs": []
    },
    {
      "cell_type": "code",
      "source": [],
      "metadata": {
        "id": "kZk-VfXkVD4y"
      },
      "execution_count": null,
      "outputs": []
    },
    {
      "cell_type": "code",
      "source": [],
      "metadata": {
        "id": "pLUuAs0uNflx"
      },
      "execution_count": null,
      "outputs": []
    }
  ]
}