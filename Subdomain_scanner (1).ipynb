{
  "nbformat": 4,
  "nbformat_minor": 0,
  "metadata": {
    "colab": {
      "provenance": []
    },
    "kernelspec": {
      "name": "python3",
      "display_name": "Python 3"
    },
    "language_info": {
      "name": "python"
    }
  },
  "cells": [
    {
      "cell_type": "code",
      "source": [
        "!wget https://github.com/theMiddleBlue/DNSenum/blob/master/wordlist/subdomains-top1mil-20000.txt"
      ],
      "metadata": {
        "id": "J-CrcPsNYBKw",
        "colab": {
          "base_uri": "https://localhost:8080/"
        },
        "outputId": "2ee70cca-0523-4911-d92d-132dc924cce3"
      },
      "execution_count": 1,
      "outputs": [
        {
          "output_type": "stream",
          "name": "stdout",
          "text": [
            "--2023-07-27 19:16:42--  https://github.com/theMiddleBlue/DNSenum/blob/master/wordlist/subdomains-top1mil-20000.txt\n",
            "Resolving github.com (github.com)... 140.82.121.4\n",
            "Connecting to github.com (github.com)|140.82.121.4|:443... connected.\n",
            "HTTP request sent, awaiting response... 200 OK\n",
            "Length: 253758 (248K) [text/plain]\n",
            "Saving to: ‘subdomains-top1mil-20000.txt’\n",
            "\n",
            "subdomains-top1mil- 100%[===================>] 247.81K  --.-KB/s    in 0.03s   \n",
            "\n",
            "2023-07-27 19:16:42 (8.06 MB/s) - ‘subdomains-top1mil-20000.txt’ saved [253758/253758]\n",
            "\n"
          ]
        }
      ]
    },
    {
      "cell_type": "code",
      "source": [
        "import requests\n",
        "import sys"
      ],
      "metadata": {
        "id": "f1Bre0xqCL6B"
      },
      "execution_count": 2,
      "outputs": []
    },
    {
      "cell_type": "code",
      "source": [
        "import concurrent.futures\n",
        "\n",
        "url = \"https://raw.githubusercontent.com/theMiddleBlue/DNSenum/master/wordlist/subdomains-top1mil-20000.txt\"\n",
        "response = requests.get(url)\n",
        "\n",
        "if response.status_code == 200:\n",
        "    contents = response.text\n",
        "\n",
        "    words = contents.splitlines()\n",
        "    link = input(\"Enter the URL: \")\n",
        "\n",
        "    def check_url(url):\n",
        "        try:\n",
        "            response = requests.get(url)\n",
        "        except Exception as ex:\n",
        "            pass\n",
        "        else:\n",
        "            if response.status_code == 200:\n",
        "                print(url)\n",
        "\n",
        "    with concurrent.futures.ThreadPoolExecutor() as executor:\n",
        "        urls_https = [\"https://{}.{}\".format(s, link) for s in words]\n",
        "        futures_https = [executor.submit(check_url, url) for url in urls_https]\n",
        "\n",
        "        concurrent.futures.wait(futures_https)\n"
      ],
      "metadata": {
        "id": "pLUuAs0uNflx",
        "colab": {
          "base_uri": "https://localhost:8080/"
        },
        "outputId": "0e7a9cac-8edc-4928-97b8-27688a59d971"
      },
      "execution_count": 7,
      "outputs": [
        {
          "output_type": "stream",
          "name": "stdout",
          "text": [
            "Enter the URL: leetcode.com\n",
            "https://www.leetcode.com\n",
            "https://internal.leetcode.com\n",
            "https://WWW.leetcode.com\n",
            "https://ff.leetcode.com\n",
            "https://discuss.leetcode.com\n",
            "https://oj.leetcode.com\n"
          ]
        }
      ]
    }
  ]
}
